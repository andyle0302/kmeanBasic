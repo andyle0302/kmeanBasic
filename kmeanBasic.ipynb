{
  "nbformat": 4,
  "nbformat_minor": 0,
  "metadata": {
    "colab": {
      "name": "kmeanBasic.ipynb",
      "provenance": [],
      "authorship_tag": "ABX9TyNZxYWJCyCZ4tqb0jbFFV4r",
      "include_colab_link": true
    },
    "kernelspec": {
      "name": "python3",
      "display_name": "Python 3"
    },
    "accelerator": "GPU"
  },
  "cells": [
    {
      "cell_type": "markdown",
      "metadata": {
        "id": "view-in-github",
        "colab_type": "text"
      },
      "source": [
        "<a href=\"https://colab.research.google.com/github/qtuter1997/kmeanBasic/blob/main/kmeanBasic.ipynb\" target=\"_parent\"><img src=\"https://colab.research.google.com/assets/colab-badge.svg\" alt=\"Open In Colab\"/></a>"
      ]
    },
    {
      "cell_type": "code",
      "metadata": {
        "id": "oFILWsx8ms5Y",
        "colab": {
          "base_uri": "https://localhost:8080/"
        },
        "outputId": "5bcf08f8-c617-4cb6-f6da-a92b3dc78e75"
      },
      "source": [
        "!git clone https://github.com/conanak99/jav-py"
      ],
      "execution_count": 1,
      "outputs": [
        {
          "output_type": "stream",
          "text": [
            "Cloning into 'jav-py'...\n",
            "remote: Enumerating objects: 15, done.\u001b[K\n",
            "remote: Counting objects: 100% (15/15), done.\u001b[K\n",
            "remote: Compressing objects: 100% (12/12), done.\u001b[K\n",
            "remote: Total 15 (delta 3), reused 4 (delta 1), pack-reused 0\u001b[K\n",
            "Unpacking objects: 100% (15/15), done.\n"
          ],
          "name": "stdout"
        }
      ]
    },
    {
      "cell_type": "code",
      "metadata": {
        "id": "55AY9zt6yHga"
      },
      "source": [
        "import numpy as np\n",
        "import pandas as pd\n",
        "import matplotlib.pyplot as plt\n",
        "from sklearn.cluster import k_means\n",
        "from sklearn import metrics\n",
        "import warnings\n",
        "warnings.filterwarnings('ignore')"
      ],
      "execution_count": 5,
      "outputs": []
    },
    {
      "cell_type": "code",
      "metadata": {
        "id": "s-IH4v0zwRIO",
        "outputId": "0f418f3b-998f-40e4-cee1-6ec494a803b5",
        "colab": {
          "base_uri": "https://localhost:8080/"
        }
      },
      "source": [
        "actress = pd.read_json('jav-py/acctress.json')\n",
        "actress.info()"
      ],
      "execution_count": 3,
      "outputs": [
        {
          "output_type": "stream",
          "text": [
            "<class 'pandas.core.frame.DataFrame'>\n",
            "RangeIndex: 11186 entries, 0 to 11185\n",
            "Data columns (total 12 columns):\n",
            " #   Column       Non-Null Count  Dtype  \n",
            "---  ------       --------------  -----  \n",
            " 0   id           11186 non-null  int64  \n",
            " 1   name         11186 non-null  object \n",
            " 2   japanName    11186 non-null  object \n",
            " 3   hiragana     11186 non-null  object \n",
            " 4   bust         6456 non-null   float64\n",
            " 5   waist        6436 non-null   float64\n",
            " 6   hip          6428 non-null   float64\n",
            " 7   height       5012 non-null   float64\n",
            " 8   birthday     4031 non-null   object \n",
            " 9   blood_type   3171 non-null   object \n",
            " 10  hobby        3730 non-null   object \n",
            " 11  prefectures  4471 non-null   object \n",
            "dtypes: float64(4), int64(1), object(7)\n",
            "memory usage: 1.0+ MB\n"
          ],
          "name": "stdout"
        }
      ]
    },
    {
      "cell_type": "code",
      "metadata": {
        "id": "Fs4t90r1wi_K",
        "outputId": "7b84dc2a-9b8c-4f6b-8cbe-13bdf9d7b8f2",
        "colab": {
          "base_uri": "https://localhost:8080/",
          "height": 204
        }
      },
      "source": [
        "actress.head()"
      ],
      "execution_count": 4,
      "outputs": [
        {
          "output_type": "execute_result",
          "data": {
            "text/html": [
              "<div>\n",
              "<style scoped>\n",
              "    .dataframe tbody tr th:only-of-type {\n",
              "        vertical-align: middle;\n",
              "    }\n",
              "\n",
              "    .dataframe tbody tr th {\n",
              "        vertical-align: top;\n",
              "    }\n",
              "\n",
              "    .dataframe thead th {\n",
              "        text-align: right;\n",
              "    }\n",
              "</style>\n",
              "<table border=\"1\" class=\"dataframe\">\n",
              "  <thead>\n",
              "    <tr style=\"text-align: right;\">\n",
              "      <th></th>\n",
              "      <th>id</th>\n",
              "      <th>name</th>\n",
              "      <th>japanName</th>\n",
              "      <th>hiragana</th>\n",
              "      <th>bust</th>\n",
              "      <th>waist</th>\n",
              "      <th>hip</th>\n",
              "      <th>height</th>\n",
              "      <th>birthday</th>\n",
              "      <th>blood_type</th>\n",
              "      <th>hobby</th>\n",
              "      <th>prefectures</th>\n",
              "    </tr>\n",
              "  </thead>\n",
              "  <tbody>\n",
              "    <tr>\n",
              "      <th>0</th>\n",
              "      <td>3</td>\n",
              "      <td>Kitagawa Yui</td>\n",
              "      <td>北川ゆい</td>\n",
              "      <td>きたがわゆい</td>\n",
              "      <td>95.0</td>\n",
              "      <td>60.0</td>\n",
              "      <td>88.0</td>\n",
              "      <td>NaN</td>\n",
              "      <td>1980-12-14</td>\n",
              "      <td>AB</td>\n",
              "      <td>クラシックバレエ</td>\n",
              "      <td>None</td>\n",
              "    </tr>\n",
              "    <tr>\n",
              "      <th>1</th>\n",
              "      <td>4</td>\n",
              "      <td>Akira</td>\n",
              "      <td>Akira</td>\n",
              "      <td>あきら</td>\n",
              "      <td>90.0</td>\n",
              "      <td>58.0</td>\n",
              "      <td>86.0</td>\n",
              "      <td>157.0</td>\n",
              "      <td>1978-08-15</td>\n",
              "      <td>A</td>\n",
              "      <td>水泳、ゴルフ</td>\n",
              "      <td>東京都</td>\n",
              "    </tr>\n",
              "    <tr>\n",
              "      <th>2</th>\n",
              "      <td>6</td>\n",
              "      <td>Cocolo</td>\n",
              "      <td>COCOLO</td>\n",
              "      <td>こころ</td>\n",
              "      <td>96.0</td>\n",
              "      <td>55.0</td>\n",
              "      <td>85.0</td>\n",
              "      <td>168.0</td>\n",
              "      <td>1982-07-07</td>\n",
              "      <td>B</td>\n",
              "      <td>パソコン</td>\n",
              "      <td>茨城県</td>\n",
              "    </tr>\n",
              "    <tr>\n",
              "      <th>3</th>\n",
              "      <td>8</td>\n",
              "      <td>Saiko</td>\n",
              "      <td>Saiko</td>\n",
              "      <td>さいこ</td>\n",
              "      <td>80.0</td>\n",
              "      <td>59.0</td>\n",
              "      <td>82.0</td>\n",
              "      <td>162.0</td>\n",
              "      <td>1983-04-12</td>\n",
              "      <td>O</td>\n",
              "      <td>料理、大食い</td>\n",
              "      <td>東京都</td>\n",
              "    </tr>\n",
              "    <tr>\n",
              "      <th>4</th>\n",
              "      <td>11</td>\n",
              "      <td>Aida Momo</td>\n",
              "      <td>あいだもも</td>\n",
              "      <td>あいだもも</td>\n",
              "      <td>82.0</td>\n",
              "      <td>55.0</td>\n",
              "      <td>89.0</td>\n",
              "      <td>162.0</td>\n",
              "      <td>1970-06-18</td>\n",
              "      <td>A</td>\n",
              "      <td>エアロビクス</td>\n",
              "      <td>東京都</td>\n",
              "    </tr>\n",
              "  </tbody>\n",
              "</table>\n",
              "</div>"
            ],
            "text/plain": [
              "   id          name japanName  ... blood_type     hobby  prefectures\n",
              "0   3  Kitagawa Yui      北川ゆい  ...         AB  クラシックバレエ         None\n",
              "1   4         Akira     Akira  ...          A    水泳、ゴルフ          東京都\n",
              "2   6        Cocolo    COCOLO  ...          B      パソコン          茨城県\n",
              "3   8         Saiko     Saiko  ...          O    料理、大食い          東京都\n",
              "4  11     Aida Momo     あいだもも  ...          A    エアロビクス          東京都\n",
              "\n",
              "[5 rows x 12 columns]"
            ]
          },
          "metadata": {
            "tags": []
          },
          "execution_count": 4
        }
      ]
    },
    {
      "cell_type": "code",
      "metadata": {
        "id": "V-5X4aEcwn4L"
      },
      "source": [
        ""
      ],
      "execution_count": null,
      "outputs": []
    }
  ]
}