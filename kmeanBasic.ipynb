{
  "nbformat": 4,
  "nbformat_minor": 0,
  "metadata": {
    "colab": {
      "name": "kmeanBasic.ipynb",
      "provenance": [],
      "authorship_tag": "ABX9TyNLuUmnk8mLWXLGJZRHFMhC",
      "include_colab_link": true
    },
    "kernelspec": {
      "name": "python3",
      "display_name": "Python 3"
    },
    "accelerator": "GPU"
  },
  "cells": [
    {
      "cell_type": "markdown",
      "metadata": {
        "id": "view-in-github",
        "colab_type": "text"
      },
      "source": [
        "<a href=\"https://colab.research.google.com/github/qtuter1997/kmeanBasic/blob/AndyLe/kmeanBasic.ipynb\" target=\"_parent\"><img src=\"https://colab.research.google.com/assets/colab-badge.svg\" alt=\"Open In Colab\"/></a>"
      ]
    },
    {
      "cell_type": "code",
      "metadata": {
        "id": "oFILWsx8ms5Y",
        "colab": {
          "base_uri": "https://localhost:8080/"
        },
        "outputId": "aa13f542-8f32-4029-ba60-08a10ad5728c"
      },
      "source": [
        "!git clone https://github.com/conanak99/jav-py"
      ],
      "execution_count": 1,
      "outputs": [
        {
          "output_type": "stream",
          "text": [
            "Cloning into 'jav-py'...\n",
            "remote: Enumerating objects: 15, done.\u001b[K\n",
            "remote: Counting objects: 100% (15/15), done.\u001b[K\n",
            "remote: Compressing objects: 100% (12/12), done.\u001b[K\n",
            "remote: Total 15 (delta 3), reused 4 (delta 1), pack-reused 0\u001b[K\n",
            "Unpacking objects: 100% (15/15), done.\n"
          ],
          "name": "stdout"
        }
      ]
    },
    {
      "cell_type": "code",
      "metadata": {
        "id": "55AY9zt6yHga"
      },
      "source": [
        "import numpy as np\n",
        "import pandas as pd\n",
        "import matplotlib.pyplot as plt\n",
        "from sklearn.cluster import KMeans\n",
        "from sklearn import metrics\n",
        "import warnings\n",
        "warnings.filterwarnings('ignore')"
      ],
      "execution_count": 13,
      "outputs": []
    },
    {
      "cell_type": "code",
      "metadata": {
        "colab": {
          "base_uri": "https://localhost:8080/"
        },
        "id": "s-IH4v0zwRIO",
        "outputId": "839d415e-18f4-4d8b-d403-9c0f48e82bbe"
      },
      "source": [
        "actress = pd.read_json('jav-py/acctress.json')\n",
        "actress.info()"
      ],
      "execution_count": 3,
      "outputs": [
        {
          "output_type": "stream",
          "text": [
            "<class 'pandas.core.frame.DataFrame'>\n",
            "RangeIndex: 11186 entries, 0 to 11185\n",
            "Data columns (total 12 columns):\n",
            " #   Column       Non-Null Count  Dtype  \n",
            "---  ------       --------------  -----  \n",
            " 0   id           11186 non-null  int64  \n",
            " 1   name         11186 non-null  object \n",
            " 2   japanName    11186 non-null  object \n",
            " 3   hiragana     11186 non-null  object \n",
            " 4   bust         6456 non-null   float64\n",
            " 5   waist        6436 non-null   float64\n",
            " 6   hip          6428 non-null   float64\n",
            " 7   height       5012 non-null   float64\n",
            " 8   birthday     4031 non-null   object \n",
            " 9   blood_type   3171 non-null   object \n",
            " 10  hobby        3730 non-null   object \n",
            " 11  prefectures  4471 non-null   object \n",
            "dtypes: float64(4), int64(1), object(7)\n",
            "memory usage: 1.0+ MB\n"
          ],
          "name": "stdout"
        }
      ]
    },
    {
      "cell_type": "code",
      "metadata": {
        "colab": {
          "base_uri": "https://localhost:8080/",
          "height": 195
        },
        "id": "Fs4t90r1wi_K",
        "outputId": "0e56b0bd-d8ec-435b-b57f-0c095e773fd1"
      },
      "source": [
        "actress.head()"
      ],
      "execution_count": 4,
      "outputs": [
        {
          "output_type": "execute_result",
          "data": {
            "text/html": [
              "<div>\n",
              "<style scoped>\n",
              "    .dataframe tbody tr th:only-of-type {\n",
              "        vertical-align: middle;\n",
              "    }\n",
              "\n",
              "    .dataframe tbody tr th {\n",
              "        vertical-align: top;\n",
              "    }\n",
              "\n",
              "    .dataframe thead th {\n",
              "        text-align: right;\n",
              "    }\n",
              "</style>\n",
              "<table border=\"1\" class=\"dataframe\">\n",
              "  <thead>\n",
              "    <tr style=\"text-align: right;\">\n",
              "      <th></th>\n",
              "      <th>id</th>\n",
              "      <th>name</th>\n",
              "      <th>japanName</th>\n",
              "      <th>hiragana</th>\n",
              "      <th>bust</th>\n",
              "      <th>waist</th>\n",
              "      <th>hip</th>\n",
              "      <th>height</th>\n",
              "      <th>birthday</th>\n",
              "      <th>blood_type</th>\n",
              "      <th>hobby</th>\n",
              "      <th>prefectures</th>\n",
              "    </tr>\n",
              "  </thead>\n",
              "  <tbody>\n",
              "    <tr>\n",
              "      <th>0</th>\n",
              "      <td>3</td>\n",
              "      <td>Kitagawa Yui</td>\n",
              "      <td>北川ゆい</td>\n",
              "      <td>きたがわゆい</td>\n",
              "      <td>95.0</td>\n",
              "      <td>60.0</td>\n",
              "      <td>88.0</td>\n",
              "      <td>NaN</td>\n",
              "      <td>1980-12-14</td>\n",
              "      <td>AB</td>\n",
              "      <td>クラシックバレエ</td>\n",
              "      <td>None</td>\n",
              "    </tr>\n",
              "    <tr>\n",
              "      <th>1</th>\n",
              "      <td>4</td>\n",
              "      <td>Akira</td>\n",
              "      <td>Akira</td>\n",
              "      <td>あきら</td>\n",
              "      <td>90.0</td>\n",
              "      <td>58.0</td>\n",
              "      <td>86.0</td>\n",
              "      <td>157.0</td>\n",
              "      <td>1978-08-15</td>\n",
              "      <td>A</td>\n",
              "      <td>水泳、ゴルフ</td>\n",
              "      <td>東京都</td>\n",
              "    </tr>\n",
              "    <tr>\n",
              "      <th>2</th>\n",
              "      <td>6</td>\n",
              "      <td>Cocolo</td>\n",
              "      <td>COCOLO</td>\n",
              "      <td>こころ</td>\n",
              "      <td>96.0</td>\n",
              "      <td>55.0</td>\n",
              "      <td>85.0</td>\n",
              "      <td>168.0</td>\n",
              "      <td>1982-07-07</td>\n",
              "      <td>B</td>\n",
              "      <td>パソコン</td>\n",
              "      <td>茨城県</td>\n",
              "    </tr>\n",
              "    <tr>\n",
              "      <th>3</th>\n",
              "      <td>8</td>\n",
              "      <td>Saiko</td>\n",
              "      <td>Saiko</td>\n",
              "      <td>さいこ</td>\n",
              "      <td>80.0</td>\n",
              "      <td>59.0</td>\n",
              "      <td>82.0</td>\n",
              "      <td>162.0</td>\n",
              "      <td>1983-04-12</td>\n",
              "      <td>O</td>\n",
              "      <td>料理、大食い</td>\n",
              "      <td>東京都</td>\n",
              "    </tr>\n",
              "    <tr>\n",
              "      <th>4</th>\n",
              "      <td>11</td>\n",
              "      <td>Aida Momo</td>\n",
              "      <td>あいだもも</td>\n",
              "      <td>あいだもも</td>\n",
              "      <td>82.0</td>\n",
              "      <td>55.0</td>\n",
              "      <td>89.0</td>\n",
              "      <td>162.0</td>\n",
              "      <td>1970-06-18</td>\n",
              "      <td>A</td>\n",
              "      <td>エアロビクス</td>\n",
              "      <td>東京都</td>\n",
              "    </tr>\n",
              "  </tbody>\n",
              "</table>\n",
              "</div>"
            ],
            "text/plain": [
              "   id          name japanName  ... blood_type     hobby  prefectures\n",
              "0   3  Kitagawa Yui      北川ゆい  ...         AB  クラシックバレエ         None\n",
              "1   4         Akira     Akira  ...          A    水泳、ゴルフ          東京都\n",
              "2   6        Cocolo    COCOLO  ...          B      パソコン          茨城県\n",
              "3   8         Saiko     Saiko  ...          O    料理、大食い          東京都\n",
              "4  11     Aida Momo     あいだもも  ...          A    エアロビクス          東京都\n",
              "\n",
              "[5 rows x 12 columns]"
            ]
          },
          "metadata": {
            "tags": []
          },
          "execution_count": 4
        }
      ]
    },
    {
      "cell_type": "code",
      "metadata": {
        "colab": {
          "base_uri": "https://localhost:8080/"
        },
        "id": "V-5X4aEcwn4L",
        "outputId": "317a3158-d33e-4d04-8aad-eb0f2797fde5"
      },
      "source": [
        "df = actress[['bust','waist','hip','height','blood_type']]\n",
        "df.info()"
      ],
      "execution_count": 5,
      "outputs": [
        {
          "output_type": "stream",
          "text": [
            "<class 'pandas.core.frame.DataFrame'>\n",
            "RangeIndex: 11186 entries, 0 to 11185\n",
            "Data columns (total 5 columns):\n",
            " #   Column      Non-Null Count  Dtype  \n",
            "---  ------      --------------  -----  \n",
            " 0   bust        6456 non-null   float64\n",
            " 1   waist       6436 non-null   float64\n",
            " 2   hip         6428 non-null   float64\n",
            " 3   height      5012 non-null   float64\n",
            " 4   blood_type  3171 non-null   object \n",
            "dtypes: float64(4), object(1)\n",
            "memory usage: 437.1+ KB\n"
          ],
          "name": "stdout"
        }
      ]
    },
    {
      "cell_type": "code",
      "metadata": {
        "id": "SBO0-Gdk9UcL",
        "colab": {
          "base_uri": "https://localhost:8080/"
        },
        "outputId": "f90e6946-0e4d-4536-9f63-cedc930468c0"
      },
      "source": [
        "df = df.dropna()\n",
        "df.info()"
      ],
      "execution_count": 6,
      "outputs": [
        {
          "output_type": "stream",
          "text": [
            "<class 'pandas.core.frame.DataFrame'>\n",
            "Int64Index: 2678 entries, 1 to 11185\n",
            "Data columns (total 5 columns):\n",
            " #   Column      Non-Null Count  Dtype  \n",
            "---  ------      --------------  -----  \n",
            " 0   bust        2678 non-null   float64\n",
            " 1   waist       2678 non-null   float64\n",
            " 2   hip         2678 non-null   float64\n",
            " 3   height      2678 non-null   float64\n",
            " 4   blood_type  2678 non-null   object \n",
            "dtypes: float64(4), object(1)\n",
            "memory usage: 125.5+ KB\n"
          ],
          "name": "stdout"
        }
      ]
    },
    {
      "cell_type": "code",
      "metadata": {
        "id": "wle-ntId9h46",
        "colab": {
          "base_uri": "https://localhost:8080/",
          "height": 195
        },
        "outputId": "87389e09-d6ed-42d6-b44d-a9d64266ec19"
      },
      "source": [
        "df.head()"
      ],
      "execution_count": 7,
      "outputs": [
        {
          "output_type": "execute_result",
          "data": {
            "text/html": [
              "<div>\n",
              "<style scoped>\n",
              "    .dataframe tbody tr th:only-of-type {\n",
              "        vertical-align: middle;\n",
              "    }\n",
              "\n",
              "    .dataframe tbody tr th {\n",
              "        vertical-align: top;\n",
              "    }\n",
              "\n",
              "    .dataframe thead th {\n",
              "        text-align: right;\n",
              "    }\n",
              "</style>\n",
              "<table border=\"1\" class=\"dataframe\">\n",
              "  <thead>\n",
              "    <tr style=\"text-align: right;\">\n",
              "      <th></th>\n",
              "      <th>bust</th>\n",
              "      <th>waist</th>\n",
              "      <th>hip</th>\n",
              "      <th>height</th>\n",
              "      <th>blood_type</th>\n",
              "    </tr>\n",
              "  </thead>\n",
              "  <tbody>\n",
              "    <tr>\n",
              "      <th>1</th>\n",
              "      <td>90.0</td>\n",
              "      <td>58.0</td>\n",
              "      <td>86.0</td>\n",
              "      <td>157.0</td>\n",
              "      <td>A</td>\n",
              "    </tr>\n",
              "    <tr>\n",
              "      <th>2</th>\n",
              "      <td>96.0</td>\n",
              "      <td>55.0</td>\n",
              "      <td>85.0</td>\n",
              "      <td>168.0</td>\n",
              "      <td>B</td>\n",
              "    </tr>\n",
              "    <tr>\n",
              "      <th>3</th>\n",
              "      <td>80.0</td>\n",
              "      <td>59.0</td>\n",
              "      <td>82.0</td>\n",
              "      <td>162.0</td>\n",
              "      <td>O</td>\n",
              "    </tr>\n",
              "    <tr>\n",
              "      <th>4</th>\n",
              "      <td>82.0</td>\n",
              "      <td>55.0</td>\n",
              "      <td>89.0</td>\n",
              "      <td>162.0</td>\n",
              "      <td>A</td>\n",
              "    </tr>\n",
              "    <tr>\n",
              "      <th>6</th>\n",
              "      <td>85.0</td>\n",
              "      <td>60.0</td>\n",
              "      <td>88.0</td>\n",
              "      <td>165.0</td>\n",
              "      <td>A</td>\n",
              "    </tr>\n",
              "  </tbody>\n",
              "</table>\n",
              "</div>"
            ],
            "text/plain": [
              "   bust  waist   hip  height blood_type\n",
              "1  90.0   58.0  86.0   157.0          A\n",
              "2  96.0   55.0  85.0   168.0          B\n",
              "3  80.0   59.0  82.0   162.0          O\n",
              "4  82.0   55.0  89.0   162.0          A\n",
              "6  85.0   60.0  88.0   165.0          A"
            ]
          },
          "metadata": {
            "tags": []
          },
          "execution_count": 7
        }
      ]
    },
    {
      "cell_type": "code",
      "metadata": {
        "id": "ubxG4HwZ9uFx",
        "colab": {
          "base_uri": "https://localhost:8080/"
        },
        "outputId": "62172b49-26cc-4897-8734-9058be4bd1c9"
      },
      "source": [
        "df.blood_type.value_counts()"
      ],
      "execution_count": 8,
      "outputs": [
        {
          "output_type": "execute_result",
          "data": {
            "text/plain": [
              "A     1100\n",
              "O      939\n",
              "B      422\n",
              "AB     217\n",
              "Name: blood_type, dtype: int64"
            ]
          },
          "metadata": {
            "tags": []
          },
          "execution_count": 8
        }
      ]
    },
    {
      "cell_type": "code",
      "metadata": {
        "id": "Ba_2wdSi-TXy",
        "colab": {
          "base_uri": "https://localhost:8080/",
          "height": 195
        },
        "outputId": "1584f42f-8796-42cd-ca5b-487b1919aba7"
      },
      "source": [
        "mapper = {'O':0,'A':1,'B':2,'AB':3}\r\n",
        "df['blood_type'] = df['blood_type'].map(mapper)\r\n",
        "df.head()"
      ],
      "execution_count": 10,
      "outputs": [
        {
          "output_type": "execute_result",
          "data": {
            "text/html": [
              "<div>\n",
              "<style scoped>\n",
              "    .dataframe tbody tr th:only-of-type {\n",
              "        vertical-align: middle;\n",
              "    }\n",
              "\n",
              "    .dataframe tbody tr th {\n",
              "        vertical-align: top;\n",
              "    }\n",
              "\n",
              "    .dataframe thead th {\n",
              "        text-align: right;\n",
              "    }\n",
              "</style>\n",
              "<table border=\"1\" class=\"dataframe\">\n",
              "  <thead>\n",
              "    <tr style=\"text-align: right;\">\n",
              "      <th></th>\n",
              "      <th>bust</th>\n",
              "      <th>waist</th>\n",
              "      <th>hip</th>\n",
              "      <th>height</th>\n",
              "      <th>blood_type</th>\n",
              "    </tr>\n",
              "  </thead>\n",
              "  <tbody>\n",
              "    <tr>\n",
              "      <th>1</th>\n",
              "      <td>90.0</td>\n",
              "      <td>58.0</td>\n",
              "      <td>86.0</td>\n",
              "      <td>157.0</td>\n",
              "      <td>1</td>\n",
              "    </tr>\n",
              "    <tr>\n",
              "      <th>2</th>\n",
              "      <td>96.0</td>\n",
              "      <td>55.0</td>\n",
              "      <td>85.0</td>\n",
              "      <td>168.0</td>\n",
              "      <td>2</td>\n",
              "    </tr>\n",
              "    <tr>\n",
              "      <th>3</th>\n",
              "      <td>80.0</td>\n",
              "      <td>59.0</td>\n",
              "      <td>82.0</td>\n",
              "      <td>162.0</td>\n",
              "      <td>0</td>\n",
              "    </tr>\n",
              "    <tr>\n",
              "      <th>4</th>\n",
              "      <td>82.0</td>\n",
              "      <td>55.0</td>\n",
              "      <td>89.0</td>\n",
              "      <td>162.0</td>\n",
              "      <td>1</td>\n",
              "    </tr>\n",
              "    <tr>\n",
              "      <th>6</th>\n",
              "      <td>85.0</td>\n",
              "      <td>60.0</td>\n",
              "      <td>88.0</td>\n",
              "      <td>165.0</td>\n",
              "      <td>1</td>\n",
              "    </tr>\n",
              "  </tbody>\n",
              "</table>\n",
              "</div>"
            ],
            "text/plain": [
              "   bust  waist   hip  height  blood_type\n",
              "1  90.0   58.0  86.0   157.0           1\n",
              "2  96.0   55.0  85.0   168.0           2\n",
              "3  80.0   59.0  82.0   162.0           0\n",
              "4  82.0   55.0  89.0   162.0           1\n",
              "6  85.0   60.0  88.0   165.0           1"
            ]
          },
          "metadata": {
            "tags": []
          },
          "execution_count": 10
        }
      ]
    },
    {
      "cell_type": "code",
      "metadata": {
        "id": "ztrRcvNetOig",
        "outputId": "3074f37f-9d3d-4bd9-ae94-e521140ff0c0",
        "colab": {
          "base_uri": "https://localhost:8080/"
        }
      },
      "source": [
        "actress_np = df.to_numpy()\r\n",
        "actress_np"
      ],
      "execution_count": 15,
      "outputs": [
        {
          "output_type": "execute_result",
          "data": {
            "text/plain": [
              "array([[ 90.,  58.,  86., 157.,   1.],\n",
              "       [ 96.,  55.,  85., 168.,   2.],\n",
              "       [ 80.,  59.,  82., 162.,   0.],\n",
              "       ...,\n",
              "       [ 83.,  58.,  85., 165.,   0.],\n",
              "       [ 88.,  58.,  87., 153.,   0.],\n",
              "       [ 88.,  59.,  86., 161.,   2.]])"
            ]
          },
          "metadata": {
            "tags": []
          },
          "execution_count": 15
        }
      ]
    },
    {
      "cell_type": "code",
      "metadata": {
        "id": "MGC3aoK8tXeq"
      },
      "source": [
        "#Test k = 5\r\n",
        "k_means_5 = KMeans(n_clusters = 5)\r\n",
        "k_means_5.fit(actress_np)\r\n",
        "labels_5 = k_means_5.labels_"
      ],
      "execution_count": 17,
      "outputs": []
    },
    {
      "cell_type": "code",
      "metadata": {
        "id": "WB07wm5HvMgX",
        "outputId": "c20be4f2-100d-4555-a2ca-1665e5f8c7c5",
        "colab": {
          "base_uri": "https://localhost:8080/"
        }
      },
      "source": [
        "labels_5"
      ],
      "execution_count": 18,
      "outputs": [
        {
          "output_type": "execute_result",
          "data": {
            "text/plain": [
              "array([3, 1, 2, ..., 1, 3, 1], dtype=int32)"
            ]
          },
          "metadata": {
            "tags": []
          },
          "execution_count": 18
        }
      ]
    },
    {
      "cell_type": "code",
      "metadata": {
        "id": "hi9966ohvOLz",
        "outputId": "a83c8183-1e5a-41a9-9457-9d4d09856ddc",
        "colab": {
          "base_uri": "https://localhost:8080/"
        }
      },
      "source": [
        "metrics.silhouette_score(actress_np,labels_5, metric='euclidean')"
      ],
      "execution_count": 19,
      "outputs": [
        {
          "output_type": "execute_result",
          "data": {
            "text/plain": [
              "0.23703995427634916"
            ]
          },
          "metadata": {
            "tags": []
          },
          "execution_count": 19
        }
      ]
    },
    {
      "cell_type": "code",
      "metadata": {
        "id": "jYB9qxubwGUa",
        "outputId": "5a406d13-3375-40cf-d185-3e2599e9d6a8",
        "colab": {
          "base_uri": "https://localhost:8080/"
        }
      },
      "source": [
        "metrics.calinski_harabasz_score(actress_np, labels_5)"
      ],
      "execution_count": 20,
      "outputs": [
        {
          "output_type": "execute_result",
          "data": {
            "text/plain": [
              "1065.3489570759602"
            ]
          },
          "metadata": {
            "tags": []
          },
          "execution_count": 20
        }
      ]
    },
    {
      "cell_type": "code",
      "metadata": {
        "id": "NlXzLLEXwiED"
      },
      "source": [
        "#Compute k use Elbow method\r\n",
        "sum_distances = []\r\n",
        "K = range(1,15)\r\n",
        "for k in K:\r\n",
        "    k_mean = KMeans(n_clusters = k)\r\n",
        "    k_mean.fit(actress_np)\r\n",
        "    sum_distances.append(k_mean.inertia_)"
      ],
      "execution_count": 53,
      "outputs": []
    },
    {
      "cell_type": "code",
      "metadata": {
        "id": "Vfit7xOh05m9",
        "outputId": "06d3ed68-afc1-4bab-ea6a-c7e4732d4b54",
        "colab": {
          "base_uri": "https://localhost:8080/",
          "height": 269
        }
      },
      "source": [
        "plt.plot(K,sum_distances, 'bx-')\r\n",
        "plt.show()"
      ],
      "execution_count": 54,
      "outputs": [
        {
          "output_type": "display_data",
          "data": {
            "image/png": "[encoded data removed]",
            "text/plain": [
              "<Figure size 432x288 with 1 Axes>"
            ]
          },
          "metadata": {
            "tags": [],
            "needs_background": "light"
          }
        }
      ]
    },
    {
      "cell_type": "code",
      "metadata": {
        "id": "aeHQ0OzV1L5w"
      },
      "source": [
        "##Compute k use Elbow method - Comprehention\r\n",
        "# K = range(1,15)\r\n",
        "# k_ms = [KMeans(n_clusters = i).fit(actress_np) for i in K]\r\n",
        "# scores = [k_ms[i].score(actress_np) for i in range(len(k_ms))]\r\n",
        "# print(k_ms[11].score(actress_np))\r\n",
        "# plt.plot(K,scores,'bx-')"
      ],
      "execution_count": 62,
      "outputs": []
    },
    {
      "cell_type": "code",
      "metadata": {
        "id": "6tdVJ-wE_VON"
      },
      "source": [
        "#Chose the best number of cluster based elbow\r\n",
        "# scores = np.array(scores)\r\n",
        "# dif_scores = scores/scores[0]\r\n",
        "# dif_scores = np.diff(dif_scores)\r\n",
        "# n_cls = np.argwhere(dif_scores < np.quantile(dif_scores,0.9))[-1][0]\r\n",
        "# print(n_cls)"
      ],
      "execution_count": 63,
      "outputs": []
    },
    {
      "cell_type": "code",
      "metadata": {
        "id": "0kMTh4s4BKyp"
      },
      "source": [
        "k_means_3 = KMeans(n_clusters = 3)\r\n",
        "k_means_3.fit(actress_np)\r\n",
        "labels_3 = k_means_3.labels_"
      ],
      "execution_count": 64,
      "outputs": []
    },
    {
      "cell_type": "code",
      "metadata": {
        "id": "SPpTOqLnBaLC",
        "outputId": "bba1327c-009d-4828-e814-b19a4dc0ad81",
        "colab": {
          "base_uri": "https://localhost:8080/"
        }
      },
      "source": [
        "metrics.silhouette_score(actress_np,labels_3, metric='euclidean')"
      ],
      "execution_count": 67,
      "outputs": [
        {
          "output_type": "execute_result",
          "data": {
            "text/plain": [
              "0.30422441591177096"
            ]
          },
          "metadata": {
            "tags": []
          },
          "execution_count": 67
        }
      ]
    },
    {
      "cell_type": "code",
      "metadata": {
        "id": "Siy9dSq4Bc1k",
        "outputId": "d557ef85-3784-44ea-b5be-906f22abb844",
        "colab": {
          "base_uri": "https://localhost:8080/"
        }
      },
      "source": [
        "metrics.calinski_harabasz_score(actress_np, labels_3)"
      ],
      "execution_count": 68,
      "outputs": [
        {
          "output_type": "execute_result",
          "data": {
            "text/plain": [
              "1271.4061896081482"
            ]
          },
          "metadata": {
            "tags": []
          },
          "execution_count": 68
        }
      ]
    }
  ]
}