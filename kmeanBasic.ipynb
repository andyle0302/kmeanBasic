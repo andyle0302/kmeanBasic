{
  "nbformat": 4,
  "nbformat_minor": 0,
  "metadata": {
    "colab": {
      "name": "kmeanBasic.ipynb",
      "provenance": [],
      "authorship_tag": "ABX9TyOCqEJjZXxtXWBD+7zdWDv1",
      "include_colab_link": true
    },
    "kernelspec": {
      "name": "python3",
      "display_name": "Python 3"
    },
    "accelerator": "GPU"
  },
  "cells": [
    {
      "cell_type": "markdown",
      "metadata": {
        "id": "view-in-github",
        "colab_type": "text"
      },
      "source": [
        "<a href=\"https://colab.research.google.com/github/qtuter1997/kmeanBasic/blob/AndyLe/kmeanBasic.ipynb\" target=\"_parent\"><img src=\"https://colab.research.google.com/assets/colab-badge.svg\" alt=\"Open In Colab\"/></a>"
      ]
    },
    {
      "cell_type": "code",
      "metadata": {
        "id": "oFILWsx8ms5Y",
        "colab": {
          "base_uri": "https://localhost:8080/"
        },
        "outputId": "bc2f7bd2-d857-40b6-daa1-234782a50b9a"
      },
      "source": [
        "!git clone https://github.com/conanak99/jav-py"
      ],
      "execution_count": 90,
      "outputs": [
        {
          "output_type": "stream",
          "text": [
            "fatal: destination path 'jav-py' already exists and is not an empty directory.\n"
          ],
          "name": "stdout"
        }
      ]
    },
    {
      "cell_type": "code",
      "metadata": {
        "id": "55AY9zt6yHga"
      },
      "source": [
        "import numpy as np\n",
        "import pandas as pd\n",
        "import matplotlib.pyplot as plt\n",
        "from sklearn.cluster import KMeans\n",
        "from sklearn import metrics\n",
        "import warnings\n",
        "warnings.filterwarnings('ignore')"
      ],
      "execution_count": 91,
      "outputs": []
    },
    {
      "cell_type": "code",
      "metadata": {
        "colab": {
          "base_uri": "https://localhost:8080/"
        },
        "id": "s-IH4v0zwRIO",
        "outputId": "17bf87ff-f500-4e22-b5aa-cec421943eb5"
      },
      "source": [
        "actress = pd.read_json('jav-py/acctress.json')\n",
        "actress.info()"
      ],
      "execution_count": 92,
      "outputs": [
        {
          "output_type": "stream",
          "text": [
            "<class 'pandas.core.frame.DataFrame'>\n",
            "RangeIndex: 11186 entries, 0 to 11185\n",
            "Data columns (total 12 columns):\n",
            " #   Column       Non-Null Count  Dtype  \n",
            "---  ------       --------------  -----  \n",
            " 0   id           11186 non-null  int64  \n",
            " 1   name         11186 non-null  object \n",
            " 2   japanName    11186 non-null  object \n",
            " 3   hiragana     11186 non-null  object \n",
            " 4   bust         6456 non-null   float64\n",
            " 5   waist        6436 non-null   float64\n",
            " 6   hip          6428 non-null   float64\n",
            " 7   height       5012 non-null   float64\n",
            " 8   birthday     4031 non-null   object \n",
            " 9   blood_type   3171 non-null   object \n",
            " 10  hobby        3730 non-null   object \n",
            " 11  prefectures  4471 non-null   object \n",
            "dtypes: float64(4), int64(1), object(7)\n",
            "memory usage: 1.0+ MB\n"
          ],
          "name": "stdout"
        }
      ]
    },
    {
      "cell_type": "code",
      "metadata": {
        "colab": {
          "base_uri": "https://localhost:8080/",
          "height": 195
        },
        "id": "Fs4t90r1wi_K",
        "outputId": "4c1788c4-debe-4f47-f498-a8d705811c1c"
      },
      "source": [
        "actress.head()"
      ],
      "execution_count": 93,
      "outputs": [
        {
          "output_type": "execute_result",
          "data": {
            "text/html": [
              "<div>\n",
              "<style scoped>\n",
              "    .dataframe tbody tr th:only-of-type {\n",
              "        vertical-align: middle;\n",
              "    }\n",
              "\n",
              "    .dataframe tbody tr th {\n",
              "        vertical-align: top;\n",
              "    }\n",
              "\n",
              "    .dataframe thead th {\n",
              "        text-align: right;\n",
              "    }\n",
              "</style>\n",
              "<table border=\"1\" class=\"dataframe\">\n",
              "  <thead>\n",
              "    <tr style=\"text-align: right;\">\n",
              "      <th></th>\n",
              "      <th>id</th>\n",
              "      <th>name</th>\n",
              "      <th>japanName</th>\n",
              "      <th>hiragana</th>\n",
              "      <th>bust</th>\n",
              "      <th>waist</th>\n",
              "      <th>hip</th>\n",
              "      <th>height</th>\n",
              "      <th>birthday</th>\n",
              "      <th>blood_type</th>\n",
              "      <th>hobby</th>\n",
              "      <th>prefectures</th>\n",
              "    </tr>\n",
              "  </thead>\n",
              "  <tbody>\n",
              "    <tr>\n",
              "      <th>0</th>\n",
              "      <td>3</td>\n",
              "      <td>Kitagawa Yui</td>\n",
              "      <td>北川ゆい</td>\n",
              "      <td>きたがわゆい</td>\n",
              "      <td>95.0</td>\n",
              "      <td>60.0</td>\n",
              "      <td>88.0</td>\n",
              "      <td>NaN</td>\n",
              "      <td>1980-12-14</td>\n",
              "      <td>AB</td>\n",
              "      <td>クラシックバレエ</td>\n",
              "      <td>None</td>\n",
              "    </tr>\n",
              "    <tr>\n",
              "      <th>1</th>\n",
              "      <td>4</td>\n",
              "      <td>Akira</td>\n",
              "      <td>Akira</td>\n",
              "      <td>あきら</td>\n",
              "      <td>90.0</td>\n",
              "      <td>58.0</td>\n",
              "      <td>86.0</td>\n",
              "      <td>157.0</td>\n",
              "      <td>1978-08-15</td>\n",
              "      <td>A</td>\n",
              "      <td>水泳、ゴルフ</td>\n",
              "      <td>東京都</td>\n",
              "    </tr>\n",
              "    <tr>\n",
              "      <th>2</th>\n",
              "      <td>6</td>\n",
              "      <td>Cocolo</td>\n",
              "      <td>COCOLO</td>\n",
              "      <td>こころ</td>\n",
              "      <td>96.0</td>\n",
              "      <td>55.0</td>\n",
              "      <td>85.0</td>\n",
              "      <td>168.0</td>\n",
              "      <td>1982-07-07</td>\n",
              "      <td>B</td>\n",
              "      <td>パソコン</td>\n",
              "      <td>茨城県</td>\n",
              "    </tr>\n",
              "    <tr>\n",
              "      <th>3</th>\n",
              "      <td>8</td>\n",
              "      <td>Saiko</td>\n",
              "      <td>Saiko</td>\n",
              "      <td>さいこ</td>\n",
              "      <td>80.0</td>\n",
              "      <td>59.0</td>\n",
              "      <td>82.0</td>\n",
              "      <td>162.0</td>\n",
              "      <td>1983-04-12</td>\n",
              "      <td>O</td>\n",
              "      <td>料理、大食い</td>\n",
              "      <td>東京都</td>\n",
              "    </tr>\n",
              "    <tr>\n",
              "      <th>4</th>\n",
              "      <td>11</td>\n",
              "      <td>Aida Momo</td>\n",
              "      <td>あいだもも</td>\n",
              "      <td>あいだもも</td>\n",
              "      <td>82.0</td>\n",
              "      <td>55.0</td>\n",
              "      <td>89.0</td>\n",
              "      <td>162.0</td>\n",
              "      <td>1970-06-18</td>\n",
              "      <td>A</td>\n",
              "      <td>エアロビクス</td>\n",
              "      <td>東京都</td>\n",
              "    </tr>\n",
              "  </tbody>\n",
              "</table>\n",
              "</div>"
            ],
            "text/plain": [
              "   id          name japanName  ... blood_type     hobby  prefectures\n",
              "0   3  Kitagawa Yui      北川ゆい  ...         AB  クラシックバレエ         None\n",
              "1   4         Akira     Akira  ...          A    水泳、ゴルフ          東京都\n",
              "2   6        Cocolo    COCOLO  ...          B      パソコン          茨城県\n",
              "3   8         Saiko     Saiko  ...          O    料理、大食い          東京都\n",
              "4  11     Aida Momo     あいだもも  ...          A    エアロビクス          東京都\n",
              "\n",
              "[5 rows x 12 columns]"
            ]
          },
          "metadata": {
            "tags": []
          },
          "execution_count": 93
        }
      ]
    },
    {
      "cell_type": "code",
      "metadata": {
        "colab": {
          "base_uri": "https://localhost:8080/"
        },
        "id": "V-5X4aEcwn4L",
        "outputId": "0b0370bb-d81c-45c3-e885-1f970329e574"
      },
      "source": [
        "df = actress[['bust','waist','hip','height','blood_type']]\n",
        "df.info()"
      ],
      "execution_count": 94,
      "outputs": [
        {
          "output_type": "stream",
          "text": [
            "<class 'pandas.core.frame.DataFrame'>\n",
            "RangeIndex: 11186 entries, 0 to 11185\n",
            "Data columns (total 5 columns):\n",
            " #   Column      Non-Null Count  Dtype  \n",
            "---  ------      --------------  -----  \n",
            " 0   bust        6456 non-null   float64\n",
            " 1   waist       6436 non-null   float64\n",
            " 2   hip         6428 non-null   float64\n",
            " 3   height      5012 non-null   float64\n",
            " 4   blood_type  3171 non-null   object \n",
            "dtypes: float64(4), object(1)\n",
            "memory usage: 437.1+ KB\n"
          ],
          "name": "stdout"
        }
      ]
    },
    {
      "cell_type": "code",
      "metadata": {
        "id": "SBO0-Gdk9UcL",
        "colab": {
          "base_uri": "https://localhost:8080/"
        },
        "outputId": "470513fc-06eb-4269-de69-c323d128c15b"
      },
      "source": [
        "df = df.dropna()\n",
        "df.info()"
      ],
      "execution_count": 95,
      "outputs": [
        {
          "output_type": "stream",
          "text": [
            "<class 'pandas.core.frame.DataFrame'>\n",
            "Int64Index: 2678 entries, 1 to 11185\n",
            "Data columns (total 5 columns):\n",
            " #   Column      Non-Null Count  Dtype  \n",
            "---  ------      --------------  -----  \n",
            " 0   bust        2678 non-null   float64\n",
            " 1   waist       2678 non-null   float64\n",
            " 2   hip         2678 non-null   float64\n",
            " 3   height      2678 non-null   float64\n",
            " 4   blood_type  2678 non-null   object \n",
            "dtypes: float64(4), object(1)\n",
            "memory usage: 125.5+ KB\n"
          ],
          "name": "stdout"
        }
      ]
    },
    {
      "cell_type": "code",
      "metadata": {
        "id": "wle-ntId9h46",
        "colab": {
          "base_uri": "https://localhost:8080/",
          "height": 195
        },
        "outputId": "c7a864d2-f46c-4da6-9466-e669080e2b10"
      },
      "source": [
        "df.head()"
      ],
      "execution_count": 96,
      "outputs": [
        {
          "output_type": "execute_result",
          "data": {
            "text/html": [
              "<div>\n",
              "<style scoped>\n",
              "    .dataframe tbody tr th:only-of-type {\n",
              "        vertical-align: middle;\n",
              "    }\n",
              "\n",
              "    .dataframe tbody tr th {\n",
              "        vertical-align: top;\n",
              "    }\n",
              "\n",
              "    .dataframe thead th {\n",
              "        text-align: right;\n",
              "    }\n",
              "</style>\n",
              "<table border=\"1\" class=\"dataframe\">\n",
              "  <thead>\n",
              "    <tr style=\"text-align: right;\">\n",
              "      <th></th>\n",
              "      <th>bust</th>\n",
              "      <th>waist</th>\n",
              "      <th>hip</th>\n",
              "      <th>height</th>\n",
              "      <th>blood_type</th>\n",
              "    </tr>\n",
              "  </thead>\n",
              "  <tbody>\n",
              "    <tr>\n",
              "      <th>1</th>\n",
              "      <td>90.0</td>\n",
              "      <td>58.0</td>\n",
              "      <td>86.0</td>\n",
              "      <td>157.0</td>\n",
              "      <td>A</td>\n",
              "    </tr>\n",
              "    <tr>\n",
              "      <th>2</th>\n",
              "      <td>96.0</td>\n",
              "      <td>55.0</td>\n",
              "      <td>85.0</td>\n",
              "      <td>168.0</td>\n",
              "      <td>B</td>\n",
              "    </tr>\n",
              "    <tr>\n",
              "      <th>3</th>\n",
              "      <td>80.0</td>\n",
              "      <td>59.0</td>\n",
              "      <td>82.0</td>\n",
              "      <td>162.0</td>\n",
              "      <td>O</td>\n",
              "    </tr>\n",
              "    <tr>\n",
              "      <th>4</th>\n",
              "      <td>82.0</td>\n",
              "      <td>55.0</td>\n",
              "      <td>89.0</td>\n",
              "      <td>162.0</td>\n",
              "      <td>A</td>\n",
              "    </tr>\n",
              "    <tr>\n",
              "      <th>6</th>\n",
              "      <td>85.0</td>\n",
              "      <td>60.0</td>\n",
              "      <td>88.0</td>\n",
              "      <td>165.0</td>\n",
              "      <td>A</td>\n",
              "    </tr>\n",
              "  </tbody>\n",
              "</table>\n",
              "</div>"
            ],
            "text/plain": [
              "   bust  waist   hip  height blood_type\n",
              "1  90.0   58.0  86.0   157.0          A\n",
              "2  96.0   55.0  85.0   168.0          B\n",
              "3  80.0   59.0  82.0   162.0          O\n",
              "4  82.0   55.0  89.0   162.0          A\n",
              "6  85.0   60.0  88.0   165.0          A"
            ]
          },
          "metadata": {
            "tags": []
          },
          "execution_count": 96
        }
      ]
    },
    {
      "cell_type": "code",
      "metadata": {
        "id": "ubxG4HwZ9uFx",
        "colab": {
          "base_uri": "https://localhost:8080/"
        },
        "outputId": "5bbfd62f-d6f3-4e8a-d3f0-f183d4336b39"
      },
      "source": [
        "df.blood_type.value_counts()"
      ],
      "execution_count": 97,
      "outputs": [
        {
          "output_type": "execute_result",
          "data": {
            "text/plain": [
              "A     1100\n",
              "O      939\n",
              "B      422\n",
              "AB     217\n",
              "Name: blood_type, dtype: int64"
            ]
          },
          "metadata": {
            "tags": []
          },
          "execution_count": 97
        }
      ]
    },
    {
      "cell_type": "code",
      "metadata": {
        "id": "Ba_2wdSi-TXy",
        "colab": {
          "base_uri": "https://localhost:8080/",
          "height": 195
        },
        "outputId": "4cb7be19-84a5-4836-a7cd-29aa79b75078"
      },
      "source": [
        "mapper = {'O':0,'A':1,'B':2,'AB':3}\r\n",
        "df['blood_type'] = df['blood_type'].map(mapper)\r\n",
        "df.head()"
      ],
      "execution_count": 98,
      "outputs": [
        {
          "output_type": "execute_result",
          "data": {
            "text/html": [
              "<div>\n",
              "<style scoped>\n",
              "    .dataframe tbody tr th:only-of-type {\n",
              "        vertical-align: middle;\n",
              "    }\n",
              "\n",
              "    .dataframe tbody tr th {\n",
              "        vertical-align: top;\n",
              "    }\n",
              "\n",
              "    .dataframe thead th {\n",
              "        text-align: right;\n",
              "    }\n",
              "</style>\n",
              "<table border=\"1\" class=\"dataframe\">\n",
              "  <thead>\n",
              "    <tr style=\"text-align: right;\">\n",
              "      <th></th>\n",
              "      <th>bust</th>\n",
              "      <th>waist</th>\n",
              "      <th>hip</th>\n",
              "      <th>height</th>\n",
              "      <th>blood_type</th>\n",
              "    </tr>\n",
              "  </thead>\n",
              "  <tbody>\n",
              "    <tr>\n",
              "      <th>1</th>\n",
              "      <td>90.0</td>\n",
              "      <td>58.0</td>\n",
              "      <td>86.0</td>\n",
              "      <td>157.0</td>\n",
              "      <td>1</td>\n",
              "    </tr>\n",
              "    <tr>\n",
              "      <th>2</th>\n",
              "      <td>96.0</td>\n",
              "      <td>55.0</td>\n",
              "      <td>85.0</td>\n",
              "      <td>168.0</td>\n",
              "      <td>2</td>\n",
              "    </tr>\n",
              "    <tr>\n",
              "      <th>3</th>\n",
              "      <td>80.0</td>\n",
              "      <td>59.0</td>\n",
              "      <td>82.0</td>\n",
              "      <td>162.0</td>\n",
              "      <td>0</td>\n",
              "    </tr>\n",
              "    <tr>\n",
              "      <th>4</th>\n",
              "      <td>82.0</td>\n",
              "      <td>55.0</td>\n",
              "      <td>89.0</td>\n",
              "      <td>162.0</td>\n",
              "      <td>1</td>\n",
              "    </tr>\n",
              "    <tr>\n",
              "      <th>6</th>\n",
              "      <td>85.0</td>\n",
              "      <td>60.0</td>\n",
              "      <td>88.0</td>\n",
              "      <td>165.0</td>\n",
              "      <td>1</td>\n",
              "    </tr>\n",
              "  </tbody>\n",
              "</table>\n",
              "</div>"
            ],
            "text/plain": [
              "   bust  waist   hip  height  blood_type\n",
              "1  90.0   58.0  86.0   157.0           1\n",
              "2  96.0   55.0  85.0   168.0           2\n",
              "3  80.0   59.0  82.0   162.0           0\n",
              "4  82.0   55.0  89.0   162.0           1\n",
              "6  85.0   60.0  88.0   165.0           1"
            ]
          },
          "metadata": {
            "tags": []
          },
          "execution_count": 98
        }
      ]
    },
    {
      "cell_type": "code",
      "metadata": {
        "colab": {
          "base_uri": "https://localhost:8080/"
        },
        "id": "ztrRcvNetOig",
        "outputId": "fe764ef7-7cb5-4761-8c7f-e55984955c11"
      },
      "source": [
        "actress_np = df.to_numpy()\r\n",
        "actress_np"
      ],
      "execution_count": 99,
      "outputs": [
        {
          "output_type": "execute_result",
          "data": {
            "text/plain": [
              "array([[ 90.,  58.,  86., 157.,   1.],\n",
              "       [ 96.,  55.,  85., 168.,   2.],\n",
              "       [ 80.,  59.,  82., 162.,   0.],\n",
              "       ...,\n",
              "       [ 83.,  58.,  85., 165.,   0.],\n",
              "       [ 88.,  58.,  87., 153.,   0.],\n",
              "       [ 88.,  59.,  86., 161.,   2.]])"
            ]
          },
          "metadata": {
            "tags": []
          },
          "execution_count": 99
        }
      ]
    },
    {
      "cell_type": "code",
      "metadata": {
        "id": "MGC3aoK8tXeq"
      },
      "source": [
        "#Test k = 5\r\n",
        "k_means_5 = KMeans(n_clusters = 5)\r\n",
        "k_means_5.fit(actress_np)\r\n",
        "labels_5 = k_means_5.labels_"
      ],
      "execution_count": 100,
      "outputs": []
    },
    {
      "cell_type": "code",
      "metadata": {
        "colab": {
          "base_uri": "https://localhost:8080/"
        },
        "id": "WB07wm5HvMgX",
        "outputId": "ace82886-16f6-4b77-ce2e-5f4bd18206c5"
      },
      "source": [
        "labels_5"
      ],
      "execution_count": 101,
      "outputs": [
        {
          "output_type": "execute_result",
          "data": {
            "text/plain": [
              "array([1, 3, 0, ..., 3, 1, 3], dtype=int32)"
            ]
          },
          "metadata": {
            "tags": []
          },
          "execution_count": 101
        }
      ]
    },
    {
      "cell_type": "code",
      "metadata": {
        "colab": {
          "base_uri": "https://localhost:8080/"
        },
        "id": "hi9966ohvOLz",
        "outputId": "da1fa05b-d149-43b4-9a3a-53209fdcf51d"
      },
      "source": [
        "metrics.silhouette_score(actress_np,labels_5, metric='euclidean')"
      ],
      "execution_count": 102,
      "outputs": [
        {
          "output_type": "execute_result",
          "data": {
            "text/plain": [
              "0.23703995427634916"
            ]
          },
          "metadata": {
            "tags": []
          },
          "execution_count": 102
        }
      ]
    },
    {
      "cell_type": "code",
      "metadata": {
        "colab": {
          "base_uri": "https://localhost:8080/"
        },
        "id": "jYB9qxubwGUa",
        "outputId": "07021282-7060-4741-d2fe-fa6d8583fcb4"
      },
      "source": [
        "metrics.calinski_harabasz_score(actress_np, labels_5)"
      ],
      "execution_count": 103,
      "outputs": [
        {
          "output_type": "execute_result",
          "data": {
            "text/plain": [
              "1065.3489570759602"
            ]
          },
          "metadata": {
            "tags": []
          },
          "execution_count": 103
        }
      ]
    },
    {
      "cell_type": "code",
      "metadata": {
        "id": "NlXzLLEXwiED"
      },
      "source": [
        "#Compute k use Elbow method\r\n",
        "sum_distances = []\r\n",
        "K = range(1,15)\r\n",
        "for k in K:\r\n",
        "    k_mean = KMeans(n_clusters = k)\r\n",
        "    k_mean.fit(actress_np)\r\n",
        "    sum_distances.append(k_mean.inertia_)"
      ],
      "execution_count": 104,
      "outputs": []
    },
    {
      "cell_type": "code",
      "metadata": {
        "colab": {
          "base_uri": "https://localhost:8080/",
          "height": 269
        },
        "id": "Vfit7xOh05m9",
        "outputId": "6740caf2-f341-42f5-be65-916de8b461ef"
      },
      "source": [
        "plt.plot(K,sum_distances, 'bx-')\r\n",
        "plt.show()"
      ],
      "execution_count": 105,
      "outputs": [
        {
          "output_type": "display_data",
          "data": {
            "image/png": "[encoded data removed]",
            "text/plain": [
              "<Figure size 432x288 with 1 Axes>"
            ]
          },
          "metadata": {
            "tags": [],
            "needs_background": "light"
          }
        }
      ]
    },
    {
      "cell_type": "code",
      "metadata": {
        "id": "aeHQ0OzV1L5w"
      },
      "source": [
        "##Compute k use Elbow method - Comprehention\r\n",
        "# K = range(1,15)\r\n",
        "# k_ms = [KMeans(n_clusters = i).fit(actress_np) for i in K]\r\n",
        "# scores = [k_ms[i].score(actress_np) for i in range(len(k_ms))]\r\n",
        "# print(k_ms[11].score(actress_np))\r\n",
        "# plt.plot(K,scores,'bx-')"
      ],
      "execution_count": 106,
      "outputs": []
    },
    {
      "cell_type": "code",
      "metadata": {
        "id": "6tdVJ-wE_VON"
      },
      "source": [
        "#Chose the best number of cluster based elbow\r\n",
        "# scores = np.array(scores)\r\n",
        "# dif_scores = scores/scores[0]\r\n",
        "# dif_scores = np.diff(dif_scores)\r\n",
        "# n_cls = np.argwhere(dif_scores < np.quantile(dif_scores,0.9))[-1][0]\r\n",
        "# print(n_cls)"
      ],
      "execution_count": 107,
      "outputs": []
    },
    {
      "cell_type": "code",
      "metadata": {
        "id": "0kMTh4s4BKyp"
      },
      "source": [
        "k_means_3 = KMeans(n_clusters = 3)\r\n",
        "model = k_means_3.fit(actress_np)\r\n",
        "result = k_means_3.labels_"
      ],
      "execution_count": 108,
      "outputs": []
    },
    {
      "cell_type": "code",
      "metadata": {
        "id": "wfEf4VSQJYs_",
        "outputId": "be875937-efc7-4833-956f-ef03852afda9",
        "colab": {
          "base_uri": "https://localhost:8080/"
        }
      },
      "source": [
        "result"
      ],
      "execution_count": 109,
      "outputs": [
        {
          "output_type": "execute_result",
          "data": {
            "text/plain": [
              "array([1, 0, 2, ..., 2, 1, 2], dtype=int32)"
            ]
          },
          "metadata": {
            "tags": []
          },
          "execution_count": 109
        }
      ]
    },
    {
      "cell_type": "code",
      "metadata": {
        "colab": {
          "base_uri": "https://localhost:8080/"
        },
        "id": "SPpTOqLnBaLC",
        "outputId": "3a90be02-973d-4967-81e6-a4c4a8bbf7b8"
      },
      "source": [
        "metrics.silhouette_score(actress_np, result, metric='euclidean')"
      ],
      "execution_count": 110,
      "outputs": [
        {
          "output_type": "execute_result",
          "data": {
            "text/plain": [
              "0.3044177022179745"
            ]
          },
          "metadata": {
            "tags": []
          },
          "execution_count": 110
        }
      ]
    },
    {
      "cell_type": "code",
      "metadata": {
        "colab": {
          "base_uri": "https://localhost:8080/"
        },
        "id": "Siy9dSq4Bc1k",
        "outputId": "0f5d427a-0630-41f6-92ea-68be217f0598"
      },
      "source": [
        "metrics.calinski_harabasz_score(actress_np, result)"
      ],
      "execution_count": 111,
      "outputs": [
        {
          "output_type": "execute_result",
          "data": {
            "text/plain": [
              "1271.3918500441293"
            ]
          },
          "metadata": {
            "tags": []
          },
          "execution_count": 111
        }
      ]
    },
    {
      "cell_type": "code",
      "metadata": {
        "id": "36B2OKWFIeeZ",
        "outputId": "c939981f-e1db-4262-f575-f916166f2738",
        "colab": {
          "base_uri": "https://localhost:8080/",
          "height": 378
        }
      },
      "source": [
        "t = plt.figure(figsize=(6,6))\r\n",
        "plt.scatter(\r\n",
        "    actress_np[result == 0, 0], actress_np[result == 0, 3],\r\n",
        "    c = 'lightgreen',\r\n",
        "    marker = 's',\r\n",
        "    edgecolors = 'black',\r\n",
        "    label = 'cluster 1'\r\n",
        ")\r\n",
        "plt.scatter(\r\n",
        "    actress_np[result == 1, 0], actress_np[result == 1, 3],\r\n",
        "    c = 'orange',\r\n",
        "    marker = 'v',\r\n",
        "    edgecolors = 'black',\r\n",
        "    label = 'cluster 2'\r\n",
        ")\r\n",
        "plt.scatter(\r\n",
        "    actress_np[result == 2, 0], actress_np[result == 2, 3],\r\n",
        "    c = 'lightblue',\r\n",
        "    marker = 'o',\r\n",
        "    edgecolors = 'black',\r\n",
        "    label = 'cluster 3'\r\n",
        ")\r\n",
        "plt.scatter(\r\n",
        "    model.cluster_centers_[:,0], model.cluster_centers_[:,3],\r\n",
        "    c = 'red', s = 250,\r\n",
        "    marker = '*',\r\n",
        "    edgecolors = 'black',\r\n",
        "    label = 'centroids'\r\n",
        ")\r\n",
        "\r\n",
        "plt.legend(scatterpoints = 1)\r\n",
        "plt.grid()\r\n",
        "plt.show()"
      ],
      "execution_count": 123,
      "outputs": [
        {
          "output_type": "display_data",
          "data": {
            "image/png": "[encoded data removed]",
            "text/plain": [
              "<Figure size 432x432 with 1 Axes>"
            ]
          },
          "metadata": {
            "tags": [],
            "needs_background": "light"
          }
        }
      ]
    },
    {
      "cell_type": "code",
      "metadata": {
        "id": "xSOQ9qqqTCKc",
        "outputId": "0d679803-d3c7-4fbb-f6ec-ee6658f3252d",
        "colab": {
          "base_uri": "https://localhost:8080/"
        }
      },
      "source": [
        "df1 = actress[['id','bust','waist','hip','height','blood_type']]\r\n",
        "df1 = df1.dropna()\r\n",
        "df1.info()"
      ],
      "execution_count": 125,
      "outputs": [
        {
          "output_type": "stream",
          "text": [
            "<class 'pandas.core.frame.DataFrame'>\n",
            "Int64Index: 2678 entries, 1 to 11185\n",
            "Data columns (total 6 columns):\n",
            " #   Column      Non-Null Count  Dtype  \n",
            "---  ------      --------------  -----  \n",
            " 0   id          2678 non-null   int64  \n",
            " 1   bust        2678 non-null   float64\n",
            " 2   waist       2678 non-null   float64\n",
            " 3   hip         2678 non-null   float64\n",
            " 4   height      2678 non-null   float64\n",
            " 5   blood_type  2678 non-null   object \n",
            "dtypes: float64(4), int64(1), object(1)\n",
            "memory usage: 146.5+ KB\n"
          ],
          "name": "stdout"
        }
      ]
    },
    {
      "cell_type": "code",
      "metadata": {
        "id": "WoOtr0PTW6Zf",
        "outputId": "b09ad24e-ee07-436b-d8a3-7f602ee2419b",
        "colab": {
          "base_uri": "https://localhost:8080/",
          "height": 195
        }
      },
      "source": [
        "df2 = actress[['id','name','japanName']]\r\n",
        "df2.head()"
      ],
      "execution_count": 126,
      "outputs": [
        {
          "output_type": "execute_result",
          "data": {
            "text/html": [
              "<div>\n",
              "<style scoped>\n",
              "    .dataframe tbody tr th:only-of-type {\n",
              "        vertical-align: middle;\n",
              "    }\n",
              "\n",
              "    .dataframe tbody tr th {\n",
              "        vertical-align: top;\n",
              "    }\n",
              "\n",
              "    .dataframe thead th {\n",
              "        text-align: right;\n",
              "    }\n",
              "</style>\n",
              "<table border=\"1\" class=\"dataframe\">\n",
              "  <thead>\n",
              "    <tr style=\"text-align: right;\">\n",
              "      <th></th>\n",
              "      <th>id</th>\n",
              "      <th>name</th>\n",
              "      <th>japanName</th>\n",
              "    </tr>\n",
              "  </thead>\n",
              "  <tbody>\n",
              "    <tr>\n",
              "      <th>0</th>\n",
              "      <td>3</td>\n",
              "      <td>Kitagawa Yui</td>\n",
              "      <td>北川ゆい</td>\n",
              "    </tr>\n",
              "    <tr>\n",
              "      <th>1</th>\n",
              "      <td>4</td>\n",
              "      <td>Akira</td>\n",
              "      <td>Akira</td>\n",
              "    </tr>\n",
              "    <tr>\n",
              "      <th>2</th>\n",
              "      <td>6</td>\n",
              "      <td>Cocolo</td>\n",
              "      <td>COCOLO</td>\n",
              "    </tr>\n",
              "    <tr>\n",
              "      <th>3</th>\n",
              "      <td>8</td>\n",
              "      <td>Saiko</td>\n",
              "      <td>Saiko</td>\n",
              "    </tr>\n",
              "    <tr>\n",
              "      <th>4</th>\n",
              "      <td>11</td>\n",
              "      <td>Aida Momo</td>\n",
              "      <td>あいだもも</td>\n",
              "    </tr>\n",
              "  </tbody>\n",
              "</table>\n",
              "</div>"
            ],
            "text/plain": [
              "   id          name japanName\n",
              "0   3  Kitagawa Yui      北川ゆい\n",
              "1   4         Akira     Akira\n",
              "2   6        Cocolo    COCOLO\n",
              "3   8         Saiko     Saiko\n",
              "4  11     Aida Momo     あいだもも"
            ]
          },
          "metadata": {
            "tags": []
          },
          "execution_count": 126
        }
      ]
    },
    {
      "cell_type": "code",
      "metadata": {
        "id": "pxMLBt3FXzQT",
        "outputId": "57e566c4-dadd-4174-a69e-61895f398ed6",
        "colab": {
          "base_uri": "https://localhost:8080/"
        }
      },
      "source": [
        "lookup = df1.merge(df2, how = 'left', on = 'id')\r\n",
        "lookup.info()"
      ],
      "execution_count": 127,
      "outputs": [
        {
          "output_type": "stream",
          "text": [
            "<class 'pandas.core.frame.DataFrame'>\n",
            "Int64Index: 2678 entries, 0 to 2677\n",
            "Data columns (total 8 columns):\n",
            " #   Column      Non-Null Count  Dtype  \n",
            "---  ------      --------------  -----  \n",
            " 0   id          2678 non-null   int64  \n",
            " 1   bust        2678 non-null   float64\n",
            " 2   waist       2678 non-null   float64\n",
            " 3   hip         2678 non-null   float64\n",
            " 4   height      2678 non-null   float64\n",
            " 5   blood_type  2678 non-null   object \n",
            " 6   name        2678 non-null   object \n",
            " 7   japanName   2678 non-null   object \n",
            "dtypes: float64(4), int64(1), object(3)\n",
            "memory usage: 188.3+ KB\n"
          ],
          "name": "stdout"
        }
      ]
    },
    {
      "cell_type": "code",
      "metadata": {
        "id": "fzgyq9FfYG70",
        "outputId": "48174885-f584-4444-a568-4e9b7ec08aea",
        "colab": {
          "base_uri": "https://localhost:8080/",
          "height": 195
        }
      },
      "source": [
        "lookup['cluster'] = result\r\n",
        "lookup.head()"
      ],
      "execution_count": 128,
      "outputs": [
        {
          "output_type": "execute_result",
          "data": {
            "text/html": [
              "<div>\n",
              "<style scoped>\n",
              "    .dataframe tbody tr th:only-of-type {\n",
              "        vertical-align: middle;\n",
              "    }\n",
              "\n",
              "    .dataframe tbody tr th {\n",
              "        vertical-align: top;\n",
              "    }\n",
              "\n",
              "    .dataframe thead th {\n",
              "        text-align: right;\n",
              "    }\n",
              "</style>\n",
              "<table border=\"1\" class=\"dataframe\">\n",
              "  <thead>\n",
              "    <tr style=\"text-align: right;\">\n",
              "      <th></th>\n",
              "      <th>id</th>\n",
              "      <th>bust</th>\n",
              "      <th>waist</th>\n",
              "      <th>hip</th>\n",
              "      <th>height</th>\n",
              "      <th>blood_type</th>\n",
              "      <th>name</th>\n",
              "      <th>japanName</th>\n",
              "      <th>cluster</th>\n",
              "    </tr>\n",
              "  </thead>\n",
              "  <tbody>\n",
              "    <tr>\n",
              "      <th>0</th>\n",
              "      <td>4</td>\n",
              "      <td>90.0</td>\n",
              "      <td>58.0</td>\n",
              "      <td>86.0</td>\n",
              "      <td>157.0</td>\n",
              "      <td>A</td>\n",
              "      <td>Akira</td>\n",
              "      <td>Akira</td>\n",
              "      <td>1</td>\n",
              "    </tr>\n",
              "    <tr>\n",
              "      <th>1</th>\n",
              "      <td>6</td>\n",
              "      <td>96.0</td>\n",
              "      <td>55.0</td>\n",
              "      <td>85.0</td>\n",
              "      <td>168.0</td>\n",
              "      <td>B</td>\n",
              "      <td>Cocolo</td>\n",
              "      <td>COCOLO</td>\n",
              "      <td>0</td>\n",
              "    </tr>\n",
              "    <tr>\n",
              "      <th>2</th>\n",
              "      <td>8</td>\n",
              "      <td>80.0</td>\n",
              "      <td>59.0</td>\n",
              "      <td>82.0</td>\n",
              "      <td>162.0</td>\n",
              "      <td>O</td>\n",
              "      <td>Saiko</td>\n",
              "      <td>Saiko</td>\n",
              "      <td>2</td>\n",
              "    </tr>\n",
              "    <tr>\n",
              "      <th>3</th>\n",
              "      <td>11</td>\n",
              "      <td>82.0</td>\n",
              "      <td>55.0</td>\n",
              "      <td>89.0</td>\n",
              "      <td>162.0</td>\n",
              "      <td>A</td>\n",
              "      <td>Aida Momo</td>\n",
              "      <td>あいだもも</td>\n",
              "      <td>2</td>\n",
              "    </tr>\n",
              "    <tr>\n",
              "      <th>4</th>\n",
              "      <td>17</td>\n",
              "      <td>85.0</td>\n",
              "      <td>60.0</td>\n",
              "      <td>88.0</td>\n",
              "      <td>165.0</td>\n",
              "      <td>A</td>\n",
              "      <td>Aduki Miyu</td>\n",
              "      <td>あづき美由</td>\n",
              "      <td>2</td>\n",
              "    </tr>\n",
              "  </tbody>\n",
              "</table>\n",
              "</div>"
            ],
            "text/plain": [
              "   id  bust  waist   hip  height blood_type        name japanName  cluster\n",
              "0   4  90.0   58.0  86.0   157.0          A       Akira     Akira        1\n",
              "1   6  96.0   55.0  85.0   168.0          B      Cocolo    COCOLO        0\n",
              "2   8  80.0   59.0  82.0   162.0          O       Saiko     Saiko        2\n",
              "3  11  82.0   55.0  89.0   162.0          A   Aida Momo     あいだもも        2\n",
              "4  17  85.0   60.0  88.0   165.0          A  Aduki Miyu     あづき美由        2"
            ]
          },
          "metadata": {
            "tags": []
          },
          "execution_count": 128
        }
      ]
    },
    {
      "cell_type": "code",
      "metadata": {
        "id": "KQKUETUjcdkD"
      },
      "source": [
        "def recommend(model,bust, waist, hip, height, blood_type):\r\n",
        "  arr = np.array([[bust, waist, hip, height, blood_type]])\r\n",
        "  pred = model.predict(arr)\r\n",
        "  return lookup[lookup['cluster'] == pred[0]].sample(10)"
      ],
      "execution_count": 137,
      "outputs": []
    },
    {
      "cell_type": "code",
      "metadata": {
        "id": "Ws6HE581d2t3",
        "outputId": "50aa3872-841f-4327-e38c-94abedfbfc18",
        "colab": {
          "base_uri": "https://localhost:8080/",
          "height": 343
        }
      },
      "source": [
        "bust = 90\r\n",
        "waist = 55\r\n",
        "hip = 90\r\n",
        "height = 157\r\n",
        "blood_type = 1\r\n",
        "recommend(model,bust, waist, hip, height, blood_type)"
      ],
      "execution_count": 140,
      "outputs": [
        {
          "output_type": "execute_result",
          "data": {
            "text/html": [
              "<div>\n",
              "<style scoped>\n",
              "    .dataframe tbody tr th:only-of-type {\n",
              "        vertical-align: middle;\n",
              "    }\n",
              "\n",
              "    .dataframe tbody tr th {\n",
              "        vertical-align: top;\n",
              "    }\n",
              "\n",
              "    .dataframe thead th {\n",
              "        text-align: right;\n",
              "    }\n",
              "</style>\n",
              "<table border=\"1\" class=\"dataframe\">\n",
              "  <thead>\n",
              "    <tr style=\"text-align: right;\">\n",
              "      <th></th>\n",
              "      <th>id</th>\n",
              "      <th>bust</th>\n",
              "      <th>waist</th>\n",
              "      <th>hip</th>\n",
              "      <th>height</th>\n",
              "      <th>blood_type</th>\n",
              "      <th>name</th>\n",
              "      <th>japanName</th>\n",
              "      <th>cluster</th>\n",
              "    </tr>\n",
              "  </thead>\n",
              "  <tbody>\n",
              "    <tr>\n",
              "      <th>2535</th>\n",
              "      <td>900</td>\n",
              "      <td>92.0</td>\n",
              "      <td>58.0</td>\n",
              "      <td>88.0</td>\n",
              "      <td>155.0</td>\n",
              "      <td>A</td>\n",
              "      <td>Takada Nori</td>\n",
              "      <td>高田のり</td>\n",
              "      <td>0</td>\n",
              "    </tr>\n",
              "    <tr>\n",
              "      <th>484</th>\n",
              "      <td>17188</td>\n",
              "      <td>99.0</td>\n",
              "      <td>58.0</td>\n",
              "      <td>87.0</td>\n",
              "      <td>155.0</td>\n",
              "      <td>A</td>\n",
              "      <td>Aoyama Nana</td>\n",
              "      <td>青山菜々</td>\n",
              "      <td>0</td>\n",
              "    </tr>\n",
              "    <tr>\n",
              "      <th>1266</th>\n",
              "      <td>2919</td>\n",
              "      <td>100.0</td>\n",
              "      <td>60.0</td>\n",
              "      <td>93.0</td>\n",
              "      <td>155.0</td>\n",
              "      <td>B</td>\n",
              "      <td>Yumeno Maria</td>\n",
              "      <td>夢野まりあ</td>\n",
              "      <td>0</td>\n",
              "    </tr>\n",
              "    <tr>\n",
              "      <th>1227</th>\n",
              "      <td>30654</td>\n",
              "      <td>100.0</td>\n",
              "      <td>62.0</td>\n",
              "      <td>88.0</td>\n",
              "      <td>157.0</td>\n",
              "      <td>O</td>\n",
              "      <td>Nakano Kyouko</td>\n",
              "      <td>中野恭子</td>\n",
              "      <td>0</td>\n",
              "    </tr>\n",
              "    <tr>\n",
              "      <th>1011</th>\n",
              "      <td>25748</td>\n",
              "      <td>91.0</td>\n",
              "      <td>60.0</td>\n",
              "      <td>88.0</td>\n",
              "      <td>162.0</td>\n",
              "      <td>B</td>\n",
              "      <td>Suma Anri</td>\n",
              "      <td>須真杏里（須真杏理）</td>\n",
              "      <td>0</td>\n",
              "    </tr>\n",
              "    <tr>\n",
              "      <th>1233</th>\n",
              "      <td>1000050</td>\n",
              "      <td>97.0</td>\n",
              "      <td>58.0</td>\n",
              "      <td>89.0</td>\n",
              "      <td>162.0</td>\n",
              "      <td>B</td>\n",
              "      <td>Morobosi Seira</td>\n",
              "      <td>諸星セイラ（百瀬涼）</td>\n",
              "      <td>0</td>\n",
              "    </tr>\n",
              "    <tr>\n",
              "      <th>419</th>\n",
              "      <td>16386</td>\n",
              "      <td>98.0</td>\n",
              "      <td>60.0</td>\n",
              "      <td>88.0</td>\n",
              "      <td>150.0</td>\n",
              "      <td>A</td>\n",
              "      <td>Watabe Zyun</td>\n",
              "      <td>渡部准</td>\n",
              "      <td>0</td>\n",
              "    </tr>\n",
              "    <tr>\n",
              "      <th>682</th>\n",
              "      <td>20337</td>\n",
              "      <td>108.0</td>\n",
              "      <td>68.0</td>\n",
              "      <td>96.0</td>\n",
              "      <td>154.0</td>\n",
              "      <td>AB</td>\n",
              "      <td>Kinuta Mitu</td>\n",
              "      <td>絹田美津</td>\n",
              "      <td>0</td>\n",
              "    </tr>\n",
              "    <tr>\n",
              "      <th>127</th>\n",
              "      <td>11714</td>\n",
              "      <td>103.0</td>\n",
              "      <td>60.0</td>\n",
              "      <td>92.0</td>\n",
              "      <td>155.0</td>\n",
              "      <td>A</td>\n",
              "      <td>Hayasi Maria</td>\n",
              "      <td>林マリア</td>\n",
              "      <td>0</td>\n",
              "    </tr>\n",
              "    <tr>\n",
              "      <th>351</th>\n",
              "      <td>15048</td>\n",
              "      <td>93.0</td>\n",
              "      <td>66.0</td>\n",
              "      <td>92.0</td>\n",
              "      <td>149.0</td>\n",
              "      <td>O</td>\n",
              "      <td>Hukuyama Youko</td>\n",
              "      <td>阿部菜津子（福山洋子、織原寧々）</td>\n",
              "      <td>0</td>\n",
              "    </tr>\n",
              "  </tbody>\n",
              "</table>\n",
              "</div>"
            ],
            "text/plain": [
              "           id   bust  waist  ...            name         japanName cluster\n",
              "2535      900   92.0   58.0  ...     Takada Nori              高田のり       0\n",
              "484     17188   99.0   58.0  ...     Aoyama Nana              青山菜々       0\n",
              "1266     2919  100.0   60.0  ...    Yumeno Maria             夢野まりあ       0\n",
              "1227    30654  100.0   62.0  ...   Nakano Kyouko              中野恭子       0\n",
              "1011    25748   91.0   60.0  ...       Suma Anri        須真杏里（須真杏理）       0\n",
              "1233  1000050   97.0   58.0  ...  Morobosi Seira        諸星セイラ（百瀬涼）       0\n",
              "419     16386   98.0   60.0  ...     Watabe Zyun               渡部准       0\n",
              "682     20337  108.0   68.0  ...     Kinuta Mitu              絹田美津       0\n",
              "127     11714  103.0   60.0  ...    Hayasi Maria              林マリア       0\n",
              "351     15048   93.0   66.0  ...  Hukuyama Youko  阿部菜津子（福山洋子、織原寧々）       0\n",
              "\n",
              "[10 rows x 9 columns]"
            ]
          },
          "metadata": {
            "tags": []
          },
          "execution_count": 140
        }
      ]
    }
  ]
}